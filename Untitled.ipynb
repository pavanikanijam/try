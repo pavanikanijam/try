{
 "cells": [
  {
   "cell_type": "code",
   "execution_count": 7,
   "id": "ddd01ae7",
   "metadata": {},
   "outputs": [
    {
     "name": "stdout",
     "output_type": "stream",
     "text": [
      "enter rows2\n",
      "  \n",
      "*\n",
      "*\n",
      "  \n",
      "*\n",
      "*\n"
     ]
    }
   ],
   "source": [
    "n=int(input(\"enter rows\"))\n",
    "for i in (1,n+1):\n",
    "    for j in (1,2*i+1):\n",
    "        print(\"*\")\n",
    "        j +=1\n",
    "    i +=1"
   ]
  },
  {
   "cell_type": "code",
   "execution_count": 14,
   "id": "b3bbe4a5",
   "metadata": {},
   "outputs": [
    {
     "ename": "IndentationError",
     "evalue": "unexpected indent (2132136447.py, line 7)",
     "output_type": "error",
     "traceback": [
      "\u001b[1;36m  Cell \u001b[1;32mIn[14], line 7\u001b[1;36m\u001b[0m\n\u001b[1;33m    j +=1\u001b[0m\n\u001b[1;37m    ^\u001b[0m\n\u001b[1;31mIndentationError\u001b[0m\u001b[1;31m:\u001b[0m unexpected indent\n"
     ]
    }
   ],
   "source": [
    "n=int(input(\"nter rows\"))\n",
    "for i in (1,n+1):\n",
    "    for i in (1,n):\n",
    "        print(\" \")\n",
    "        for j in (1,(2*i)-1):\n",
    "             print(\"*\")\n",
    "                j +=1\n",
    "                for i in (1,n):\n",
    "                     print(\" \")\n",
    "i +=1"
   ]
  },
  {
   "cell_type": "code",
   "execution_count": null,
   "id": "0c5dc766",
   "metadata": {},
   "outputs": [],
   "source": []
  }
 ],
 "metadata": {
  "kernelspec": {
   "display_name": "Python 3 (ipykernel)",
   "language": "python",
   "name": "python3"
  },
  "language_info": {
   "codemirror_mode": {
    "name": "ipython",
    "version": 3
   },
   "file_extension": ".py",
   "mimetype": "text/x-python",
   "name": "python",
   "nbconvert_exporter": "python",
   "pygments_lexer": "ipython3",
   "version": "3.10.11"
  }
 },
 "nbformat": 4,
 "nbformat_minor": 5
}
