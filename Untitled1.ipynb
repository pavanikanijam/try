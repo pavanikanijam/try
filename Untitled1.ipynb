{
 "cells": [
  {
   "cell_type": "code",
   "execution_count": null,
   "id": "e3f2201a",
   "metadata": {},
   "outputs": [],
   "source": [
    "try:\n",
    "    x=1/0\n",
    "except ZeroDivisionError:\n",
    "    print(\" zero division Error\")"
   ]
  },
  {
   "cell_type": "markdown",
   "id": "380021c5",
   "metadata": {},
   "source": [
    "# multiple except\n",
    "try:\n",
    "    x=1/0\n",
    "except EOFError:\n",
    "    print(\"end of file error\")\n",
    "except ImportError:\n",
    "    print(\"import exception error\")\n",
    "except ZeroDivisionError:\n",
    "    print(\"Zero division error\")"
   ]
  },
  {
   "cell_type": "code",
   "execution_count": 10,
   "id": "bb957452",
   "metadata": {},
   "outputs": [
    {
     "name": "stdout",
     "output_type": "stream",
     "text": [
      "Error occured\n"
     ]
    }
   ],
   "source": [
    "try:\n",
    "    x=1/0\n",
    "except EOFError:\n",
    "    print(\"end of file error\")\n",
    "except ImportError:\n",
    "    print(\"import exception error\")\n",
    "except RuntimeError:\n",
    "    print(\"Zero division error\")\n",
    "except:\n",
    "    print(\"Error occured\")"
   ]
  },
  {
   "cell_type": "markdown",
   "id": "a33c6613",
   "metadata": {},
   "source": [
    "# else\n",
    "try:\n",
    "    x=1/2\n",
    "except EOFError:\n",
    "    print(\"end of file error\")\n",
    "except ImportError:\n",
    "    print(\"import exception error\")\n",
    "except RuntimeError:\n",
    "    print(\"Zero division error\")\n",
    "else:\n",
    "    print(\"else will be there\")\n",
    "//if there is no exception occured in try block  else will be executed after try block"
   ]
  },
  {
   "cell_type": "code",
   "execution_count": 15,
   "id": "9d0d3960",
   "metadata": {},
   "outputs": [
    {
     "name": "stdout",
     "output_type": "stream",
     "text": [
      "division by zero\n"
     ]
    }
   ],
   "source": [
    "try:\n",
    "    x=1/0\n",
    "except ZeroDivisionError as err:\n",
    "    print(err)"
   ]
  },
  {
   "cell_type": "markdown",
   "id": "4ee81d96",
   "metadata": {},
   "source": [
    "# finally\n",
    "try:\n",
    "    x=1/0\n",
    "except ZeroDivisionError as err:\n",
    "    print(err)\n",
    "finally:\n",
    "    print(\"finally block\")\n",
    "//finally-if exception occured or  not the block will be executed \n",
    "//finally block always gets executed"
   ]
  },
  {
   "cell_type": "code",
   "execution_count": null,
   "id": "c53d4944",
   "metadata": {},
   "outputs": [],
   "source": [
    "1.raise an exception intentionally\n",
    "2.handle that raised exception"
   ]
  },
  {
   "cell_type": "code",
   "execution_count": 17,
   "id": "4df8a336",
   "metadata": {},
   "outputs": [
    {
     "name": "stdout",
     "output_type": "stream",
     "text": [
      "finally block\n"
     ]
    }
   ],
   "source": [
    "try:\n",
    "    x=1/3\n",
    "except ZeroDivisionError as err:\n",
    "    print(err)\n",
    "finally:\n",
    "    print(\"finally block\")"
   ]
  },
  {
   "cell_type": "markdown",
   "id": "a3afdb16",
   "metadata": {},
   "source": [
    "# raise an exception using raise keyword"
   ]
  },
  {
   "cell_type": "code",
   "execution_count": 18,
   "id": "95d22b31",
   "metadata": {},
   "outputs": [
    {
     "name": "stdout",
     "output_type": "stream",
     "text": [
      "array length exceeded\n"
     ]
    }
   ],
   "source": [
    "arr=[1,2,3,4,5]\n",
    "try:\n",
    "    if len(arr)>=4:\n",
    "        raise ValueError(\"array length exceeded\")\n",
    "    else:\n",
    "        print(\"Every thing is false\")\n",
    "except ValueError as err:\n",
    "    print(err)"
   ]
  },
  {
   "cell_type": "markdown",
   "id": "66898308",
   "metadata": {},
   "source": [
    "# how to define custom exception"
   ]
  },
  {
   "cell_type": "code",
   "execution_count": 34,
   "id": "3771470d",
   "metadata": {},
   "outputs": [
    {
     "name": "stdout",
     "output_type": "stream",
     "text": [
      "\n"
     ]
    }
   ],
   "source": [
    "class CustomException(Exception):\n",
    "    \"this is a custom exception\"\n",
    "    pass\n",
    "\n",
    "try:\n",
    "    x=20\n",
    "    if x==20:\n",
    "        raise CustomException\n",
    "    else:\n",
    "        print(\"x is not 20\")\n",
    "except CustomException as err:\n",
    "    print(err)"
   ]
  },
  {
   "cell_type": "code",
   "execution_count": 35,
   "id": "ba57bffa",
   "metadata": {},
   "outputs": [
    {
     "name": "stdout",
     "output_type": "stream",
     "text": [
      "Custom\n"
     ]
    }
   ],
   "source": [
    "class CustomException(Exception):\n",
    "    \"this is a custom exception\"\n",
    "    pass\n",
    "\n",
    "try:\n",
    "    x=20\n",
    "    if x==20:\n",
    "        raise CustomException\n",
    "    else:\n",
    "        print(\"x is not 20\")\n",
    "except CustomException as err:\n",
    "    print(\"Custom\")"
   ]
  },
  {
   "cell_type": "code",
   "execution_count": null,
   "id": "c8827ae5",
   "metadata": {},
   "outputs": [],
   "source": []
  }
 ],
 "metadata": {
  "kernelspec": {
   "display_name": "Python 3 (ipykernel)",
   "language": "python",
   "name": "python3"
  },
  "language_info": {
   "codemirror_mode": {
    "name": "ipython",
    "version": 3
   },
   "file_extension": ".py",
   "mimetype": "text/x-python",
   "name": "python",
   "nbconvert_exporter": "python",
   "pygments_lexer": "ipython3",
   "version": "3.10.11"
  }
 },
 "nbformat": 4,
 "nbformat_minor": 5
}
